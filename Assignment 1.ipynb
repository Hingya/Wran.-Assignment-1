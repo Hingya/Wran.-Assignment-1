{
 "cells": [
  {
   "cell_type": "markdown",
   "id": "1e35e922",
   "metadata": {},
   "source": [
    "# Q 1.Create a null vector of size 10 but the fifth value which is 1"
   ]
  },
  {
   "cell_type": "code",
   "execution_count": 1,
   "id": "b687168b",
   "metadata": {},
   "outputs": [],
   "source": [
    "import numpy as np"
   ]
  },
  {
   "cell_type": "code",
   "execution_count": 2,
   "id": "762bde7d",
   "metadata": {},
   "outputs": [
    {
     "data": {
      "text/plain": [
       "array([0, 0, 0, 0, 1, 0, 0, 0, 0, 0])"
      ]
     },
     "execution_count": 2,
     "metadata": {},
     "output_type": "execute_result"
    }
   ],
   "source": [
    "(np.arange(10) == 4) .astype(int)"
   ]
  },
  {
   "cell_type": "markdown",
   "id": "efa7c0eb",
   "metadata": {},
   "source": [
    "# Q 2.Create a vector with values ranging from 10 to 49."
   ]
  },
  {
   "cell_type": "code",
   "execution_count": 3,
   "id": "5c916ce9",
   "metadata": {},
   "outputs": [
    {
     "data": {
      "text/plain": [
       "array([10, 11, 12, 13, 14, 15, 16, 17, 18, 19, 20, 21, 22, 23, 24, 25, 26,\n",
       "       27, 28, 29, 30, 31, 32, 33, 34, 35, 36, 37, 38, 39, 40, 41, 42, 43,\n",
       "       44, 45, 46, 47, 48])"
      ]
     },
     "execution_count": 3,
     "metadata": {},
     "output_type": "execute_result"
    }
   ],
   "source": [
    "Range=np.arange(10,49)\n",
    "Range\n"
   ]
  },
  {
   "cell_type": "markdown",
   "id": "48446277",
   "metadata": {},
   "source": [
    "# Q 3.Create a 3x3 matrix with values ranging from 0 to 8"
   ]
  },
  {
   "cell_type": "code",
   "execution_count": 4,
   "id": "b755c168",
   "metadata": {},
   "outputs": [
    {
     "data": {
      "text/plain": [
       "array([[7, 1, 3],\n",
       "       [2, 4, 1],\n",
       "       [2, 7, 4]])"
      ]
     },
     "execution_count": 4,
     "metadata": {},
     "output_type": "execute_result"
    }
   ],
   "source": [
    "a = np.random.randint(0,8,(3,3))\n",
    "a"
   ]
  },
  {
   "cell_type": "markdown",
   "id": "e480d48e",
   "metadata": {},
   "source": [
    "# Q4.Find indices of non-zero elements from [1,2,0,0,4,0]"
   ]
  },
  {
   "cell_type": "code",
   "execution_count": 5,
   "id": "17359a4c",
   "metadata": {},
   "outputs": [
    {
     "data": {
      "text/plain": [
       "(array([0, 1, 4], dtype=int64),)"
      ]
     },
     "execution_count": 5,
     "metadata": {},
     "output_type": "execute_result"
    }
   ],
   "source": [
    "arr = np.array([1,2,0,0,4,0])\n",
    "np.nonzero(arr)"
   ]
  },
  {
   "cell_type": "markdown",
   "id": "0713087b",
   "metadata": {},
   "source": [
    "# Q5.Create a 10x10 array with random values and find the minimum and maximum values"
   ]
  },
  {
   "cell_type": "code",
   "execution_count": 6,
   "id": "6bf69772",
   "metadata": {},
   "outputs": [
    {
     "name": "stdout",
     "output_type": "stream",
     "text": [
      "[[0.98762179 0.32359943 0.06423017 0.27875362 0.68976967 0.85675802\n",
      "  0.86464008 0.00826627 0.1428345  0.42230178]\n",
      " [0.59753069 0.1089066  0.26733255 0.93804521 0.15138867 0.76870414\n",
      "  0.66531094 0.84486135 0.87800799 0.33625895]\n",
      " [0.18620607 0.09922722 0.44372372 0.34517517 0.12443477 0.7402883\n",
      "  0.12988896 0.05518262 0.05177592 0.40020194]\n",
      " [0.11202727 0.09613242 0.65815127 0.1169898  0.75710557 0.92447144\n",
      "  0.87365717 0.27667005 0.9424761  0.73898429]\n",
      " [0.98334857 0.58524063 0.83628183 0.7090034  0.98324702 0.69564495\n",
      "  0.43238093 0.41745711 0.94618917 0.92251198]\n",
      " [0.09218233 0.38126372 0.12782046 0.6671111  0.90675962 0.70343841\n",
      "  0.51467705 0.05792732 0.28540362 0.29315208]\n",
      " [0.07061598 0.46388687 0.1037634  0.58294881 0.85156401 0.43197042\n",
      "  0.46750736 0.82231573 0.99096684 0.10977484]\n",
      " [0.73605547 0.13651477 0.75370849 0.06673711 0.27842505 0.45913412\n",
      "  0.57179434 0.05898755 0.52299632 0.07509181]\n",
      " [0.62664471 0.10770357 0.18669924 0.19573513 0.23437757 0.92166641\n",
      "  0.86641288 0.80573166 0.13550405 0.47389691]\n",
      " [0.34842936 0.31306864 0.85918283 0.01707851 0.44376926 0.54989977\n",
      "  0.43958984 0.17229405 0.39133296 0.73408116]]\n",
      "minimun value is 0.008266272591924695\n",
      "maximum value is 0.9909668382220764\n"
     ]
    }
   ],
   "source": [
    "matrix = np.random.random((10,10))\n",
    "print(matrix)\n",
    "print(\"minimun value is\",matrix.min())\n",
    "print(\"maximum value is\",matrix.max())"
   ]
  },
  {
   "cell_type": "markdown",
   "id": "0deb4a19",
   "metadata": {},
   "source": [
    "# Q6.Create a random vector of size 30 and find the mean value."
   ]
  },
  {
   "cell_type": "code",
   "execution_count": 7,
   "id": "40e1017b",
   "metadata": {},
   "outputs": [
    {
     "data": {
      "text/plain": [
       "array([7.36944024e-01, 6.22087243e-01, 8.70556378e-01, 1.35727868e-01,\n",
       "       9.73527653e-01, 1.79447395e-01, 9.70934189e-01, 6.51667759e-01,\n",
       "       3.19596594e-01, 2.47650147e-01, 3.15960672e-01, 3.36403041e-01,\n",
       "       2.20814506e-01, 7.32060736e-01, 2.49785028e-01, 8.98434598e-01,\n",
       "       9.95724845e-01, 3.94695015e-01, 5.05727456e-01, 4.27542923e-01,\n",
       "       5.61387152e-01, 3.43006704e-01, 4.18590371e-01, 3.00723620e-01,\n",
       "       4.20507040e-01, 7.98242218e-01, 3.61939824e-02, 4.23855775e-01,\n",
       "       5.10961507e-05, 8.11225315e-01])"
      ]
     },
     "execution_count": 7,
     "metadata": {},
     "output_type": "execute_result"
    }
   ],
   "source": [
    "random_vector =np.random.random(30)\n",
    "random_vector"
   ]
  },
  {
   "cell_type": "code",
   "execution_count": 8,
   "id": "e6ca5109",
   "metadata": {},
   "outputs": [
    {
     "data": {
      "text/plain": [
       "0.49663571146359753"
      ]
     },
     "execution_count": 8,
     "metadata": {},
     "output_type": "execute_result"
    }
   ],
   "source": [
    "random_vector.mean()"
   ]
  },
  {
   "cell_type": "code",
   "execution_count": null,
   "id": "b0b45482",
   "metadata": {},
   "outputs": [],
   "source": []
  }
 ],
 "metadata": {
  "kernelspec": {
   "display_name": "Python 3 (ipykernel)",
   "language": "python",
   "name": "python3"
  },
  "language_info": {
   "codemirror_mode": {
    "name": "ipython",
    "version": 3
   },
   "file_extension": ".py",
   "mimetype": "text/x-python",
   "name": "python",
   "nbconvert_exporter": "python",
   "pygments_lexer": "ipython3",
   "version": "3.10.1"
  }
 },
 "nbformat": 4,
 "nbformat_minor": 5
}
